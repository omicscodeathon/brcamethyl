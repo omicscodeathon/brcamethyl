{
 "cells": [
  {
   "cell_type": "markdown",
   "id": "ed7bf861-370c-46e0-9d41-462c36e29d2b",
   "metadata": {},
   "source": [
    "## **THE BISULFITE SEQUENCE DATA ANALYSIS PIPELINE - BRCAMETHYL**\n",
    "\n",
    "> This notebook contains the codes for each step of the bisulfite-seq analysis pipeline which includes;\n",
    "- Data acquisition (WGBS)\n",
    "- Quality control (FastQC)\n",
    "- Trimming (Trim_galore)\n",
    "- Genome Preparation (Bismark_genome_preparation)\n",
    "- Alignment (bismark)\n",
    "- Deduplication (deduplicate_bismark)\n",
    "- Methylation Extraction (bismark_methylation_extractor)\n",
    "- Genome visualization"
   ]
  },
  {
   "cell_type": "markdown",
   "id": "f7db0773-cd55-4b5c-a110-297269304c17",
   "metadata": {
    "tags": []
   },
   "source": [
    "### SETTING UP THE ENVIRONMENT AND INSTALLING OF METHYLATION ANALYSIS TOOLS \n",
    "\n",
    "#### Setting up the Environment\n",
    "> __[CONDA](https://docs.conda.io/en/latest/)__\n",
    "\n",
    "It is an open source environment and package management system available. Locating and installing packages as well as switching between environments to run different versions of tools—like Python—can be made easier using conda.\n",
    "If installed, use the commands: `conda activate` and `conda deactivate` to activate and deactivate the environment respectively."
   ]
  },
  {
   "cell_type": "code",
   "execution_count": 6,
   "id": "01136e06-5fc0-4a8d-85da-0c0ee68aa5f4",
   "metadata": {
    "tags": []
   },
   "outputs": [
    {
     "name": "stdout",
     "output_type": "stream",
     "text": [
      "# conda environments:\n",
      "#\n",
      "base                  *  /opt/conda\n",
      "gatk                     /opt/conda/envs/gatk\n",
      "nextflow                 /opt/conda/envs/nextflow\n",
      "\n"
     ]
    }
   ],
   "source": [
    "#To check if you have conda environment installed and also the list of environments \n",
    "! conda env list"
   ]
  },
  {
   "cell_type": "markdown",
   "id": "cef7ad2d-26b6-45ca-8e42-24c249339e1b",
   "metadata": {},
   "source": [
    "#### Mamba \n",
    "\n",
    "[**mamba**](https://mamba.readthedocs.io/en/latest/user_guide/mamba.html) is a re-implementation of the conda package manager in C++. It uses the same commands and configuration options as conda. The only difference is that you should still use conda for activation and deactivation. Once conda is installed, we will install `mamba` and use it to install all the tools we are going to use in Tutorial 1 and 2. \n",
    "> **Installation**: conda -> mamba -> other tools\n",
    "\n",
    "The script below installs `mamba` via Mambaforge."
   ]
  },
  {
   "cell_type": "code",
   "execution_count": null,
   "id": "0210eef7-bfdb-46a9-8dc2-9803932cbc24",
   "metadata": {},
   "outputs": [],
   "source": [
    "! curl -L -O https://github.com/conda-forge/miniforge/releases/latest/download/Mambaforge-$(uname)-$(uname -m).sh\n",
    "! bash Mambaforge-$(uname)-$(uname -m).sh -b -p $HOME/mambaforge"
   ]
  },
  {
   "cell_type": "code",
   "execution_count": 40,
   "id": "a5cfec91-0d71-4aeb-8ee5-3f0544d40d87",
   "metadata": {
    "tags": []
   },
   "outputs": [],
   "source": [
    "# Run this block of command anytime you start your notebook \n",
    "import os\n",
    "os.environ[\"PATH\"] += os.pathsep + os.environ[\"HOME\"]+\"/mambaforge/bin\""
   ]
  },
  {
   "cell_type": "markdown",
   "id": "ccece344-aa9e-423e-b8cc-f8c94848603a",
   "metadata": {},
   "source": [
    "#### Installing the tools\n",
    "We will specify all the tools and their respective versions that will be used for the analysis "
   ]
  },
  {
   "cell_type": "markdown",
   "id": "8ca361c5-1b03-425c-ad0f-b25940908895",
   "metadata": {},
   "source": [
    "<div class= \"alert alert-block alert-info\"><b>Tip</b>: use <code>\\</code> to break a long command into multiple lines</div>"
   ]
  },
  {
   "cell_type": "code",
   "execution_count": null,
   "id": "83b609bc-45bc-4986-918a-1ed4810f38ba",
   "metadata": {},
   "outputs": [],
   "source": [
    "! mamba install -y -c conda-forge -c bioconda fastqc=0.11.9 \\ \n",
    "    multiqc=1.13 \\  \n",
    "    samtools=1.15.1 \\\n",
    "    bedtools=2.30.0 \\\n",
    "    bismark=0.23.1 \\\n",
    "    trim-galore=0.6.7"
   ]
  },
  {
   "cell_type": "markdown",
   "id": "6ae6cf56-2197-417e-90bb-89fd7ea1f83b",
   "metadata": {},
   "source": [
    "---\n",
    "#### **Downloading the whole genome bisulfite sequence dataset for this project**\n",
    "> __[SRA EXPLORER](https://sra-explorer.info)__\n",
    "\n",
    "Mini web application to explore the __[NCBI Sequence Read Archive](https://www.ncbi.nlm.nih.gov/sra)__ and easily access downloads for data, either as `.sra` files from the NCBI or as `.fastq` via the __[EBI ENA](https://www.ebi.ac.uk/ena/browser/home)__."
   ]
  },
  {
   "cell_type": "code",
   "execution_count": null,
   "id": "9833e3b7-cc1d-467d-bf81-057dc19718c1",
   "metadata": {},
   "outputs": [],
   "source": [
    "#creating working directories\n",
    "! mkdir -p `echo $PWD/../pipeline`\n",
    "! mkdir -p `echo $PWD/../ME-pipeline/Bisulfite-analysis`\n",
    "! mkdir -p `echo $PWD/../ME-pipeline/Bisulfite-analysis/bisulfite-seq`\n",
    "! mkdir -p `echo $PWD/../ME-pipeline/Bisulfite-analysis/ref_genome`\n",
    "! mkdir -p `echo $PWD/../ME-pipeline/Bisulfite-analysis/fastqc_reports`\n",
    "! mkdir -p `echo $PWD/../ME-pipeline/Bisulfite-analysis/trimmed_files`\n",
    "! mkdir -p `echo $PWD/../ME-pipeline/Bisulfite-analysis/bismark_files`"
   ]
  },
  {
   "cell_type": "code",
   "execution_count": null,
   "id": "abf2cc1f-bf3f-400f-afd3-1665ef1111c2",
   "metadata": {},
   "outputs": [],
   "source": [
    "#Downloading WGBS data from the SRA explorer\n",
    "\n",
    "! cd `echo $PWD/../ME-pipeline/Bisulfite-analysis/bisulfite-seq` &&  bash ../scripts/bisulfite-seq/01_download_data.sh"
   ]
  },
  {
   "cell_type": "markdown",
   "id": "c95fe574-c5e7-4cb6-a13b-cedefc53d5da",
   "metadata": {},
   "source": [
    "#### **Downloading the reference genome**\n",
    "> __[UCSC BROWSER](https://hgdownload.soe.ucsc.edu/goldenPath/hg38/bigZips/)__\n",
    "\n",
    "Using the human reference genome assembly is Genome Reference Consortium Human Build 38"
   ]
  },
  {
   "cell_type": "code",
   "execution_count": null,
   "id": "3fd0f801-4739-46e8-b4f0-6f17f4bb1de2",
   "metadata": {},
   "outputs": [],
   "source": [
    "#downloading the reference genome\n",
    "! cd `echo $PWD/../ME-pipeline/Bisulfite-analysis/ref_genome` && wget https://hgdownload.soe.ucsc.edu/goldenPath/hg38/bigZips/hg38.fa.gz"
   ]
  },
  {
   "cell_type": "markdown",
   "id": "93992010-98cb-4b8c-8b8c-29626b4d3bc0",
   "metadata": {},
   "source": [
    "### **RUNNING THE PIPELINE**\n",
    "> **STEP 1: Quality Control with __[FASTQC](https://www.bioinformatics.babraham.ac.uk/projects/fastqc/)__ and  __[MULTIQC](https://multiqc.info)__**\n",
    "\n",
    "__[FastQC](https://www.bioinformatics.babraham.ac.uk/projects/fastqc/)__ aims to provide a simple way to do some quality control checks on raw sequence data coming from high throughput sequencing pipelines. It provides a modular set of analyses which you can use to give a quick impression of whether your data has any problems of which you should be aware before doing any further analysis.\n",
    "\n",
    "The main functions of FastQC are;\n",
    "\n",
    "- Import of data from BAM, SAM or FastQ files (any variant)#downloading the reference genome\n",
    "! cd `echo $PWD/../pipeline/Bisulfite-analysis/ref_genome` && wget https://hgdownload.soe.ucsc.edu/goldenPath/hg38/bigZips/hg38.fa.gz\n",
    "- Providing a quick overview to tell you in which areas there may be problems\n",
    "- Summary graphs and tables to quickly assess your data\n",
    "- Export of results to an HTML based permanent report\n",
    "- Offline operation to allow automated generation of reports without running the interactive application"
   ]
  },
  {
   "cell_type": "code",
   "execution_count": null,
   "id": "0b6152a9-4fdb-4717-b352-9c35be6eccc1",
   "metadata": {},
   "outputs": [],
   "source": [
    "! for file in ../ME-pipeline/Bisulfite-analysis/bisulfite-seq/*.gz; do \\\n",
    "    fastqc -q -o ../ME-pipeline/Bisulfite-analysis/fastqc_reports \"${file}\"; \\\n",
    "    done;\n",
    "\n",
    "! cd ../pipeline/Bisulfite-analysis/fastqc_reports && multiqc ."
   ]
  },
  {
   "cell_type": "markdown",
   "id": "232dc2a4-93ad-40c5-ac92-3d8eeb4a5b26",
   "metadata": {},
   "source": [
    "> **STEP 2: Trimming with __[TrimGalore](https://www.bioinformatics.babraham.ac.uk/projects/trim_galore/)__**\n",
    "\n",
    "Trim Galore is a bioinformatics tool designed to simplify the process of quality control and adapter trimming of raw sequencing data. It is essentially a wrapper script that combines the functionalities of Cutadapt and FastQC to provide a streamlined experience for preprocessing FastQ files."
   ]
  },
  {
   "cell_type": "code",
   "execution_count": null,
   "id": "bc5d2e5b-2700-45e8-b5b6-a95d096d6c70",
   "metadata": {},
   "outputs": [],
   "source": [
    "#running trim_galore on files to trim adapter sequences and filter low quality reads\n",
    "! trim_galore -j 2 --paired --phred33 --fastqc -o  ../ME-pipeline/Bisulfite-analysis/trimmed_files ../ME-pipeline/Bisulfite-analysis/bisulfite-seq/SRR*.gz"
   ]
  },
  {
   "cell_type": "markdown",
   "id": "54aa7c37-55b4-4ef5-982d-fc83d79bcf29",
   "metadata": {},
   "source": [
    "> **STEP 3: Genome Preparation(Indexing): Bisulfite conversion with __[Bimark](https://www.bioinformatics.babraham.ac.uk/projects/bismark/)__**\n",
    "\n",
    "The genome preparation is crucial for the alignment step as it converts the reference genome as tho it was treated with bisulfite. This step will generated bisulfite treated forward strand index of a reference genome (C->T converted) and a bisulfite treated reverse strand index of the genome (G->A conversion of the forward strand). If missing this step, the bisulfite-treated reads will not aligned to the normal reference genome or will align with many mismatches.\n",
    "\n",
    "> parameters\n",
    "- `-bowtie2` : specifies bowtie2 for indexing of the genome\n",
    "- `--verbose` : prints verbose output"
   ]
  },
  {
   "cell_type": "code",
   "execution_count": null,
   "id": "7e5f4698-e8ac-45d8-b11a-0e73aaefc528",
   "metadata": {},
   "outputs": [],
   "source": [
    "#perform genome preparation using bismark_genome_preparation tool\n",
    "! bismark_genome_preparation --bowtie2 --verbose ../ME-pipeline/Bisulfite-analysis/ref_genome"
   ]
  },
  {
   "cell_type": "markdown",
   "id": "888f9d3f-a225-42f3-ae20-224be5edc46d",
   "metadata": {
    "tags": []
   },
   "source": [
    "> **STEP 4: Bismark Genome Alignment : Bisulfite mapping with __[Bimark](https://www.bioinformatics.babraham.ac.uk/projects/bismark/)__**\n",
    "\n",
    "In this step, the quality and adapter trimmed reads will be mapped to the bisulfite converted reference genome using command `bismark`. The basic usage of this command is: \n",
    "\n",
    "`bismark [options] --genome <ref_genome_folder> {-1 <mates1> -2 <mates2> | <singles>}`\n",
    "\n",
    "**Running time**. This is the most important step in the whole Bismark workflow and also requires the most computational resources. For large genomes such as human or mouse, the alignment step could take several days depending on the sequencing depth and computational resources allocated.  \n",
    "\n",
    "**Effect of bisulfite treatment of DNA**. As cytosine methylation is not symmetrical, the two strands of DNA in the reference genome must be considered separately. Bisulfite conversion of genomic DNA and subsequent PCR amplification gives rise to two PCR products and up to **four** potentially different DNA fragments for any given locus. OT, original top strand; CTOT, strand complementary to the original top strand; OB, original bottom strand; and CTOB, strand complementary to the original bottom strand. "
   ]
  },
  {
   "cell_type": "code",
   "execution_count": null,
   "id": "70650dc8-a113-4a10-96a4-582eaeddc5fa",
   "metadata": {},
   "outputs": [],
   "source": [
    "! bash ../scripts/bisulfite-seq/05_alignment.sh"
   ]
  },
  {
   "cell_type": "markdown",
   "id": "19582ae4-a9fc-41f6-9a7d-0a367248d202",
   "metadata": {},
   "source": [
    "> **STEP 6: Deduplication**\n",
    "\n",
    "This steps utilizes `deduplicate_bismark` tool to rid all alignments with identical mapping positions in the genome.</br>\n",
    "> parameters\n",
    "- `-p flag` : signifies it is a paired-end data \n",
    "- `--bam flag` : indicates that the input file is a bam file\n",
    "- `--output_dir` : specifies the output directory"
   ]
  },
  {
   "cell_type": "markdown",
   "id": "4c21545d-de6e-4fae-84d8-5dd0677ed8c0",
   "metadata": {},
   "source": [
    "`! deduplicate_bismark -p --output_dir ../pipeline/Bisulfite-analysis/bismark_files --bam ../pipeline/Bisulfite-analysis/bismark_files/*.bam `"
   ]
  },
  {
   "cell_type": "code",
   "execution_count": null,
   "id": "dbd0fbb6-6aa4-49a3-97e0-a179d0f98849",
   "metadata": {},
   "outputs": [],
   "source": [
    "! bash ! bash ../scripts/bisulfite-seq/06_dedup.sh"
   ]
  },
  {
   "cell_type": "markdown",
   "id": "9b467a3a-489d-4861-91a5-465b5a2fd043",
   "metadata": {},
   "source": [
    "> **Step 7. Get DNA methylation ratios**\n",
    "\n",
    "This step utilizes the bismark alignment files for calling methylation for every single Cytosine analysed. </br>\n",
    "\n",
    "**Strand-specific methylation output files** (default): The position of every single C will be written out to a new output file, depending on its context (CpG, CHG or CHH), whereby methylated Cs will be labeled as forward reads (+), non-methylated Cs as reverse reads (-). \n",
    "\n",
    "**Optional bedGraph output**. Alternatively, the output of the methylation extractor can be transformed into a `.bedGraph` and `.coverage` file using the option `--bedGraph`. These files can be used for [visualization](#Visualization-using-IGV-(Integrative-Genomics-Viewer)) later using tools such as Integrative Genomics Viewer. For the `.bedGraph` format, there will be 4 columns: chromosome, start position, end position, methylation percentage. For `.coverage` (bismark.cov.gz) format, there will be two additional columns: chromosome, start position, end position, methylation percentage, count methylated, count unmethylated. "
   ]
  },
  {
   "cell_type": "code",
   "execution_count": null,
   "id": "1715b1c4-082d-4404-9034-4b9784f81ccd",
   "metadata": {},
   "outputs": [],
   "source": [
    "! bash ../scripts/bisulfite-seq/07_methyXtractor.sh"
   ]
  },
  {
   "cell_type": "markdown",
   "id": "2738ba07-d016-49ec-9bc0-7f9e9f699aba",
   "metadata": {},
   "source": [
    "You can check the output files using the `zcat` command, since they were compressed."
   ]
  }
 ],
 "metadata": {
  "environment": {
   "kernel": "python3",
   "name": "common-cpu.m121",
   "type": "gcloud",
   "uri": "us-docker.pkg.dev/deeplearning-platform-release/gcr.io/base-cpu:m121"
  },
  "kernelspec": {
   "display_name": "Python 3 (Local)",
   "language": "python",
   "name": "python3"
  },
  "language_info": {
   "codemirror_mode": {
    "name": "ipython",
    "version": 3
   },
   "file_extension": ".py",
   "mimetype": "text/x-python",
   "name": "python",
   "nbconvert_exporter": "python",
   "pygments_lexer": "ipython3",
   "version": "3.10.14"
  }
 },
 "nbformat": 4,
 "nbformat_minor": 5
}
