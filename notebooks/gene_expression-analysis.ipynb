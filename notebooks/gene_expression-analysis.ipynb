{
 "cells": [
  {
   "cell_type": "code",
   "execution_count": null,
   "id": "e569b093-99af-421b-99d4-0a99a6bf3653",
   "metadata": {},
   "outputs": [],
   "source": [
    "#creating working directories\n",
    "! mkdir -p `echo $PWD/../GE_pipeline`\n",
    "! mkdir -p `echo $PWD/../GE-pipeline/RNA-analysis`\n",
    "! mkdir -p `echo $PWD/../GE-pipeline/RNA-analysis/bisulfite-seq`\n",
    "! mkdir -p `echo $PWD/../GE-pipeline/RNA-analysis/ref_genome`\n",
    "! mkdir -p `echo $PWD/../GE-pipeline/RNA-analysis/fastqc_reports`\n",
    "! mkdir -p `echo $PWD/../GE-pipeline/RNA-analysis/trimmed_files`\n",
    "! mkdir -p `echo $PWD/../GE-pipeline/RNA-analysis/aligned_files`"
   ]
  }
 ],
 "metadata": {
  "environment": {
   "kernel": "python3",
   "name": "common-cpu.m121",
   "type": "gcloud",
   "uri": "us-docker.pkg.dev/deeplearning-platform-release/gcr.io/base-cpu:m121"
  },
  "kernelspec": {
   "display_name": "Python 3 (Local)",
   "language": "python",
   "name": "python3"
  },
  "language_info": {
   "codemirror_mode": {
    "name": "ipython",
    "version": 3
   },
   "file_extension": ".py",
   "mimetype": "text/x-python",
   "name": "python",
   "nbconvert_exporter": "python",
   "pygments_lexer": "ipython3",
   "version": "3.10.14"
  }
 },
 "nbformat": 4,
 "nbformat_minor": 5
}
